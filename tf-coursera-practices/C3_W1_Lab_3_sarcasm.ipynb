{
 "cells": [
  {
   "cell_type": "code",
   "execution_count": 1,
   "id": "60365a95-6627-4f71-ad57-1f8c13fee308",
   "metadata": {},
   "outputs": [
    {
     "name": "stdout",
     "output_type": "stream",
     "text": [
      "--2024-01-28 08:44:04--  https://storage.googleapis.com/tensorflow-1-public/course3/sarcasm.json\n",
      "Resolving storage.googleapis.com (storage.googleapis.com)... 2404:6800:4005:81a::201b, 2404:6800:4005:80f::201b, 2404:6800:4005:810::201b, ...\n",
      "Connecting to storage.googleapis.com (storage.googleapis.com)|2404:6800:4005:81a::201b|:443... connected.\n",
      "HTTP request sent, awaiting response... 200 OK\n",
      "Length: 5643545 (5,4M) [application/json]\n",
      "Saving to: ‘sarcasm.json’\n",
      "\n",
      "sarcasm.json        100%[===================>]   5,38M  4,99MB/s    in 1,1s    \n",
      "\n",
      "2024-01-28 08:44:05 (4,99 MB/s) - ‘sarcasm.json’ saved [5643545/5643545]\n",
      "\n"
     ]
    }
   ],
   "source": [
    "# Download the dataset\n",
    "!wget https://storage.googleapis.com/tensorflow-1-public/course3/sarcasm.json"
   ]
  },
  {
   "cell_type": "code",
   "execution_count": 2,
   "id": "cf313afa-3969-46b2-8b27-5c3865555769",
   "metadata": {},
   "outputs": [],
   "source": [
    "import json\n",
    "\n",
    "# Load the JSON file\n",
    "with open(\"./sarcasm.json\",\"r\") as f:\n",
    "    datastore = json.load(f)"
   ]
  },
  {
   "cell_type": "code",
   "execution_count": 4,
   "id": "724bf5d2-b755-45ec-b25a-a6f163f622fb",
   "metadata": {},
   "outputs": [
    {
     "name": "stdout",
     "output_type": "stream",
     "text": [
      "{'article_link': 'https://www.huffingtonpost.com/entry/versace-black-code_us_5861fbefe4b0de3a08f600d5', 'headline': \"former versace store clerk sues over secret 'black code' for minority shoppers\", 'is_sarcastic': 0}\n",
      "{'article_link': 'https://www.huffingtonpost.com/entry/roseanne-revival-review_us_5ab3a497e4b054d118e04365', 'headline': \"the 'roseanne' revival catches up to our thorny political mood, for better and worse\", 'is_sarcastic': 0}\n"
     ]
    }
   ],
   "source": [
    "# Non-sarcastic headline\n",
    "print(datastore[0])\n",
    "\n",
    "# Sarcastic headline\n",
    "print(datastore[1])"
   ]
  },
  {
   "cell_type": "code",
   "execution_count": 6,
   "id": "a7a9b403-a903-47a4-a435-ff0697d5ba87",
   "metadata": {},
   "outputs": [],
   "source": [
    "# Initialize lists\n",
    "sentences = []\n",
    "labels = []\n",
    "urls = []\n",
    "\n",
    "# Append elements in the dictionaries into each list\n",
    "for item in datastore:\n",
    "    sentences.append(item['headline'])\n",
    "    labels.append(item['is_sarcastic'])\n",
    "    urls.append(item['article_link'])"
   ]
  },
  {
   "cell_type": "code",
   "execution_count": 9,
   "id": "dc8c782d-e4a6-4b6a-aeaf-b14b8dfa24b9",
   "metadata": {},
   "outputs": [
    {
     "name": "stdout",
     "output_type": "stream",
     "text": [
      "number of words in word_index: 29657\n",
      "\n",
      "sample headline: mom starting to fear son's web series closest thing she will have to grandchild\n",
      "padded sequence: [  145   838     2   907  1749  2093   582  4719   221   143    39    46\n",
      "     2 10736     0     0     0     0     0     0     0     0     0     0\n",
      "     0     0     0     0     0     0     0     0     0     0     0     0\n",
      "     0     0     0     0]\n",
      "\n",
      "shape of padded sequences: (26709, 40)\n"
     ]
    }
   ],
   "source": [
    "from tensorflow.keras.preprocessing.text import Tokenizer\n",
    "from tensorflow.keras.preprocessing.sequence import pad_sequences\n",
    "\n",
    "# Initialize the Tokenizer class\n",
    "tokenizer = Tokenizer(oov_token=\"<OOV>\")\n",
    "\n",
    "# Generate the word index dictionary\n",
    "tokenizer.fit_on_texts(sentences)\n",
    "\n",
    "# Print the length of the word index\n",
    "word_index = tokenizer.word_index\n",
    "print(f'number of words in word_index: {len(word_index)}')\n",
    "print()\n",
    "\n",
    "# Generate and pad the sequences\n",
    "sequences = tokenizer.texts_to_sequences(sentences)\n",
    "padded = pad_sequences(sequences, padding='post')\n",
    "\n",
    "#Print a sample headline\n",
    "index=2\n",
    "print(f'sample headline: {sentences[index]}')\n",
    "print(f'padded sequence: {padded[index]}')\n",
    "print()\n",
    "\n",
    "# Print dimensions of padded sequences\n",
    "print(f'shape of padded sequences: {padded.shape}')"
   ]
  },
  {
   "cell_type": "code",
   "execution_count": null,
   "id": "a5c724d0-663f-4c57-946c-1882f83eacfc",
   "metadata": {},
   "outputs": [],
   "source": []
  }
 ],
 "metadata": {
  "kernelspec": {
   "display_name": "Python 3 (ipykernel)",
   "language": "python",
   "name": "python3"
  },
  "language_info": {
   "codemirror_mode": {
    "name": "ipython",
    "version": 3
   },
   "file_extension": ".py",
   "mimetype": "text/x-python",
   "name": "python",
   "nbconvert_exporter": "python",
   "pygments_lexer": "ipython3",
   "version": "3.8.18"
  }
 },
 "nbformat": 4,
 "nbformat_minor": 5
}
