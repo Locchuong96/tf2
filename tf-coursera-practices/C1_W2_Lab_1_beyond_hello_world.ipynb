{
 "cells": [
  {
   "cell_type": "code",
   "execution_count": 22,
   "id": "461c897d-2e2d-4270-b557-ad81e1e28ed2",
   "metadata": {},
   "outputs": [
    {
     "name": "stdout",
     "output_type": "stream",
     "text": [
      "2.7.0\n"
     ]
    }
   ],
   "source": [
    "import os\n",
    "import random\n",
    "import numpy as np\n",
    "import tensorflow as tf\n",
    "import matplotlib.pyplot as plt\n",
    "\n",
    "os.environ['TF_CPP_MIN_LOG_LEVEL']='2'\n",
    "print(tf.__version__)"
   ]
  },
  {
   "cell_type": "markdown",
   "id": "53692f2f-3720-4d63-aa6d-3339779761db",
   "metadata": {},
   "source": [
    "The Fashion MNIST dataset is a collection of grayscale 28x28 pixel clothing images. Each image is associated with a label as shown in this table⁉\n",
    "|Label|Description|\n",
    "|---|---|\n",
    "|0|T-shirt/top|\n",
    "|1|Trouser|\n",
    "|2|Pullover|\n",
    "|3|Dress|\n",
    "|4|Coat|\n",
    "|5|Sandal|\n",
    "|6|Shirt|\n",
    "|7|Sneaker|\n",
    "|8|Bag|\n",
    "|9|Ankle boot|\n",
    "\n",
    "This dataset is available directly in the `tf.keras.datasets` API and you load it like this:"
   ]
  },
  {
   "cell_type": "code",
   "execution_count": 2,
   "id": "136280e0-5c27-455a-855b-f69bb9445833",
   "metadata": {},
   "outputs": [],
   "source": [
    "# Load the Fashion MNIST dataset\n",
    "fmnist = tf.keras.datasets.fashion_mnist"
   ]
  },
  {
   "cell_type": "code",
   "execution_count": 3,
   "id": "82501aaa-b35a-4e4e-b5e3-bce729523966",
   "metadata": {},
   "outputs": [
    {
     "name": "stdout",
     "output_type": "stream",
     "text": [
      "Downloading data from https://storage.googleapis.com/tensorflow/tf-keras-datasets/train-labels-idx1-ubyte.gz\n",
      "32768/29515 [=================================] - 0s 1us/step\n",
      "40960/29515 [=========================================] - 0s 1us/step\n",
      "Downloading data from https://storage.googleapis.com/tensorflow/tf-keras-datasets/train-images-idx3-ubyte.gz\n",
      "26427392/26421880 [==============================] - 2s 0us/step\n",
      "26435584/26421880 [==============================] - 2s 0us/step\n",
      "Downloading data from https://storage.googleapis.com/tensorflow/tf-keras-datasets/t10k-labels-idx1-ubyte.gz\n",
      "16384/5148 [===============================================================================================] - 0s 0us/step\n",
      "Downloading data from https://storage.googleapis.com/tensorflow/tf-keras-datasets/t10k-images-idx3-ubyte.gz\n",
      "4423680/4422102 [==============================] - 0s 0us/step\n",
      "4431872/4422102 [==============================] - 0s 0us/step\n"
     ]
    }
   ],
   "source": [
    "# Load the training and test split of the Fashion MNIST dataset\n",
    "(training_images, training_labels), (test_images, test_labels) = fmnist.load_data()"
   ]
  },
  {
   "cell_type": "code",
   "execution_count": 16,
   "id": "d9c222f1-c8fa-4a46-9e89-f634cd97b057",
   "metadata": {},
   "outputs": [
    {
     "name": "stdout",
     "output_type": "stream",
     "text": [
      "LABEL: 0\n",
      "\n",
      "IMAGE PIXEL ARRAY:\n",
      " [[  0   0   0   0   0   0   0   0   0   0   0  88  51  18  22  98  81   0   0   0   0   0   0   0   0   0   0   0]\n",
      " [  0   0   0   0   0   0   0   0   6  68 107 225 172  90 120 182 155 112  72  15   0   0   0   0   0   0   0   0]\n",
      " [  0   0   0   0   0   0  69 115 144 148 113 111 160 248 255 143 103 124 146 151 132  84   0   0   0   0   0   0]\n",
      " [  0   0   0   0   0 102 122 116 110  99 112 102  64 139 117  77 119 111 107 110 115 122 124   0   0   0   0   0]\n",
      " [  0   0   0   0  33 146 102 108 115 106 104 115 120 113  97 116 106 102 106 106 107 106 138  37   0   0   0   0]\n",
      " [  0   0   0   0  80 138 110 107 111 104 111 106 107 143 117 103 115 124 115 103 104 107 134  71   0   0   0   0]\n",
      " [  0   0   0   0 112 115 138 103 107 110 107 106 107 132 107 110 146 128 137 107 103 122 128 110   0   0   0   0]\n",
      " [  0   0   0   6 129 104 120 157  93 108 111 108 112 120 104 115 142  94 128  99  98 143 110 124   0   0   0   0]\n",
      " [  0   0   0  67 135 110 124 177  91 107 106 100 108 116 108 102 122 137 137  94 177 126 107 133  45   0   0   0]\n",
      " [  0   0   0  50  94 106 161 154  72 124 104 103 103 112 116 104  97 103 110  85 185 170 113 111  54   0   0   0]\n",
      " [  0   0   0   0   0  10 115  66  68 137 111 113 110 112 111 113 117 110 129  93   0  55   5   0   0   0   0   0]\n",
      " [  0   0   0   0   0   0   0   0  82 137 107 111 113 104 111 110 110 108 130 110   0   0   0   0   0   0   0   0]\n",
      " [  0   0   0   0   0   0   1   0  78 138 108 112 111 106 104 108 107 106 130 100   0   0   0   0   0   0   0   0]\n",
      " [  0   0   0   0   0   0   0   0  85 134 110 112 112 110 107 110 111 112 133  81   0   0   0   0   0   0   0   0]\n",
      " [  0   0   0   0   0   0   0   0  89 134 111 115 113 111 108 110 108 110 132  86   0   0   0   0   0   0   0   0]\n",
      " [  0   0   0   0   0   0   0   0  91 132 111 112 112 112 111 113 108 110 129  99   0   0   0   0   0   0   0   0]\n",
      " [  0   0   0   0   0   0   0   0  95 132 115 110 111 116 117 115 111 112 126  94   0   0   0   0   0   0   0   0]\n",
      " [  0   0   0   0   0   0   0   0  99 134 121 117 115 117 116 112 111 107 128  91   0   0   0   0   0   0   0   0]\n",
      " [  0   0   0   0   0   0   0   0 104 132 115 120 121 117 110 112 116 108 133  93   0   0   0   0   0   0   0   0]\n",
      " [  0   0   0   0   0   0   0   0 102 138 115 121 124 117 113 116 119 107 133  84   0   0   0   0   0   0   0   0]\n",
      " [  0   0   0   0   0   0   0   0  98 139 117 121 121 117 116 116 117 111 133  90   0   0   0   0   0   0   0   0]\n",
      " [  0   0   0   0   0   0   0   0 100 137 117 121 121 121 119 117 117 117 132 108   0   0   1   0   0   0   0   0]\n",
      " [  0   0   0   0   0   0   0   0 110 132 112 121 125 126 125 121 120 117 126 116   0   0   1   0   0   0   0   0]\n",
      " [  0   0   0   0   0   0   0   0 120 128 113 121 125 128 125 124 124 119 122 121   0   0   1   0   0   0   0   0]\n",
      " [  0   0   0   0   0   1   0   0 121 124 119 121 121 121 121 124 126 121 122 129   0   0   1   0   0   0   0   0]\n",
      " [  0   0   0   0   0   1   0   0 130 122 113 116 117 117 116 117 117 115 121 144   0   0   1   0   0   0   0   0]\n",
      " [  0   0   0   0   0   0   0   0 130 135 137 142 143 141 137 137 137 143 160 138   0   0   1   0   0   0   0   0]\n",
      " [  0   0   0   0   0   0   0   0   0  59  69  69  75  73  71  75  75  53  37   0   0   0   0   0   0   0   0   0]]\n"
     ]
    },
    {
     "data": {
      "text/plain": [
       "<matplotlib.image.AxesImage at 0x7fa8b33b6dc0>"
      ]
     },
     "execution_count": 16,
     "metadata": {},
     "output_type": "execute_result"
    },
    {
     "data": {
      "image/png": "[encoded data removed]",
      "text/plain": [
       "<Figure size 640x480 with 1 Axes>"
      ]
     },
     "metadata": {},
     "output_type": "display_data"
    }
   ],
   "source": [
    "# Visualize your data\n",
    "index = random.choice(range(59999)) # You can put between 0 to 59999 here\n",
    "\n",
    "# Set number of characters per row when printing\n",
    "np.set_printoptions(linewidth=320)\n",
    "\n",
    "# Print the label and image\n",
    "print(f'LABEL: {training_labels[index]}')\n",
    "print(f'\\nIMAGE PIXEL ARRAY:\\n {training_images[index]}')\n",
    "\n",
    "# Visualize the image\n",
    "plt.imshow(training_images[index])"
   ]
  },
  {
   "cell_type": "code",
   "execution_count": 17,
   "id": "c17a9b8f-6163-4346-bf30-0a8584ed0d6f",
   "metadata": {},
   "outputs": [],
   "source": [
    "# Normalize the pixel values of the train and test images\n",
    "training_images = training_images/255.0\n",
    "test_images = test_images/255.0"
   ]
  },
  {
   "cell_type": "code",
   "execution_count": 21,
   "id": "e57064ea-64e2-4381-8ebf-c9a9be7b2551",
   "metadata": {},
   "outputs": [],
   "source": [
    "# Build the classification model\n",
    "model = tf.keras.models.Sequential([\n",
    "    tf.keras.layers.Flatten(),\n",
    "    tf.keras.layers.Dense(128, activation=tf.nn.relu),\n",
    "    tf.keras.layers.Dense(10, activation=tf.nn.softmax)\n",
    "])"
   ]
  },
  {
   "cell_type": "code",
   "execution_count": 23,
   "id": "9eecd712-901f-4c6f-b9db-0e6dbf41affd",
   "metadata": {},
   "outputs": [
    {
     "name": "stdout",
     "output_type": "stream",
     "text": [
      "input to softmax function: [[1. 3. 4. 2.]]\n"
     ]
    }
   ],
   "source": [
    "# Declare sampleinputs and convert to a tensor\n",
    "inputs = np.array([[1.0, 3.0, 4.0, 2.0]])\n",
    "inputs = tf.convert_to_tensor(inputs)\n",
    "print(f'input to softmax function: {inputs.numpy()}')"
   ]
  },
  {
   "cell_type": "markdown",
   "id": "b77dc351-ab0c-417a-849f-622fee581e6e",
   "metadata": {},
   "source": [
    "# references\n",
    "\n",
    "[Fashion MNIST dataset](https://github.com/zalandoresearch/fashion-mnist)\n",
    "\n",
    "[Sequential](https://keras.io/api/models/sequential/)\n",
    "\n",
    "[Flatten](https://keras.io/api/layers/reshaping_layers/flatten/)\n",
    "\n",
    "[Dense](https://keras.io/api/layers/core_layers/dense/)\n",
    "\n",
    "[ReLU](https://keras.io/api/layers/activations/#relu-function)\n",
    "\n",
    "[Softmax](https://keras.io/api/layers/activations/#softmax-function)"
   ]
  }
 ],
 "metadata": {
  "kernelspec": {
   "display_name": "Python 3 (ipykernel)",
   "language": "python",
   "name": "python3"
  },
  "language_info": {
   "codemirror_mode": {
    "name": "ipython",
    "version": 3
   },
   "file_extension": ".py",
   "mimetype": "text/x-python",
   "name": "python",
   "nbconvert_exporter": "python",
   "pygments_lexer": "ipython3",
   "version": "3.8.18"
  }
 },
 "nbformat": 4,
 "nbformat_minor": 5
}
