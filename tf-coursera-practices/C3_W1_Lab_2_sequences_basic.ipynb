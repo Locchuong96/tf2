{
 "cells": [
  {
   "cell_type": "markdown",
   "id": "913e759b-af2c-440c-b817-97110dccdc19",
   "metadata": {},
   "source": [
    "# Ungraded Lab: Generating Sequences and Padding\n",
    "\n",
    "In this lab, you will look at converting your input sentences into a sequence of tokens. Similar to images in the previous course, you need to prepare text data with uniform size before feeding it to your model. You will see how to do these in the next sections."
   ]
  },
  {
   "cell_type": "markdown",
   "id": "d4137d96-44a9-44b8-b897-cf538e9992e2",
   "metadata": {},
   "source": [
    "## Text to Sequences\n",
    "\n",
    "In the previous lab, you saw how to generate a `word_index` dictionary to generate tokens for each word in your corpus. You can then use the result to convert each of the input sentences into a sequence of tokens. That is done using the [`texts_to_sequences()`](https://www.tensorflow.org/api_docs/python/tf/keras/preprocessing/text/Tokenizer#texts_to_sequences) method as shown below."
   ]
  },
  {
   "cell_type": "code",
   "execution_count": 13,
   "id": "867f3cd6-b37a-4432-9486-be92ed9758b9",
   "metadata": {},
   "outputs": [
    {
     "name": "stdout",
     "output_type": "stream",
     "text": [
      "\n",
      "Word Index=  {'<OOV>': 1, 'my': 2, 'love': 3, 'dog': 4, 'i': 5, 'you': 6, 'cat': 7, 'do': 8, 'think': 9, 'is': 10, 'amazing': 11}\n",
      "\n",
      "Sequences=  [[5, 3, 2, 4], [5, 3, 2, 7], [6, 3, 2, 4], [8, 6, 9, 2, 4, 10, 11]]\n"
     ]
    }
   ],
   "source": [
    "from tensorflow.keras.preprocessing.text import Tokenizer\n",
    "from tensorflow.keras.preprocessing.sequence import pad_sequences\n",
    "\n",
    "# Define your input texts\n",
    "sentences = [\n",
    "    'I love my dog',\n",
    "    'I love my cat',\n",
    "    'You love my dog!',\n",
    "    'Do you think my dog is amazing?'\n",
    "]\n",
    "\n",
    "# Initialize the Tokenizer class\n",
    "tokenizer = Tokenizer(num_words=100, oov_token = '<OOV>')\n",
    "\n",
    "# Tokenize the input setences\n",
    "tokenizer.fit_on_texts(sentences)\n",
    "\n",
    "# Get the word index dictionary\n",
    "word_index = tokenizer.word_index\n",
    "\n",
    "# Generate list of token sequences\n",
    "sequences = tokenizer.texts_to_sequences(sentences)\n",
    "\n",
    "# Print the result\n",
    "print(\"\\nWord Index= \", word_index)\n",
    "print(\"\\nSequences= \",sequences)"
   ]
  },
  {
   "cell_type": "markdown",
   "id": "e28bb1d9-2322-4757-b2a3-726a623440c5",
   "metadata": {},
   "source": [
    "## Padding\n",
    "\n",
    "As mentioned in the lecture, you will usually need to pad the sequences into a uniform length because that is what your model expects. You can use the [pad_sequences](https://www.tensorflow.org/api_docs/python/tf/keras/preprocessing/sequence/pad_sequences) for that. By default, it will pad according to the length of the longest sequence. You can override this with the `maxlen` argument to define a specific length. Feel free to play with the [other arguments](https://www.tensorflow.org/api_docs/python/tf/keras/preprocessing/sequence/pad_sequences#args) shown in class and compare the result."
   ]
  },
  {
   "cell_type": "code",
   "execution_count": 14,
   "id": "e2cdb7c3-dfaa-4c06-9ca5-6b6efecba79a",
   "metadata": {},
   "outputs": [
    {
     "name": "stdout",
     "output_type": "stream",
     "text": [
      "\n",
      "Padded Sequences:\n",
      "[[ 0  5  3  2  4]\n",
      " [ 0  5  3  2  7]\n",
      " [ 0  6  3  2  4]\n",
      " [ 9  2  4 10 11]]\n"
     ]
    }
   ],
   "source": [
    "# Pad the sequences to a uniform length\n",
    "padded = pad_sequences(sequences, maxlen=5)\n",
    "\n",
    "# Print the result\n",
    "print(\"\\nPadded Sequences:\")\n",
    "print(padded)"
   ]
  },
  {
   "cell_type": "markdown",
   "id": "b036d9e2-0da0-42bc-93fe-a9014d526573",
   "metadata": {},
   "source": [
    "## Out-of-vocabulary tokens\n",
    "\n",
    "Notice that you defined an `oov_token` when the `Tokenizer` was initialized earlier. This will be used when you have input words that are not found in the `word_index` dictionary. For example, you may decide to collect more text after your initial training and decide to not re-generate the `word_index`. You will see this in action in the cell below. Notice that the token `1` is inserted for words that are not found in the dictionary."
   ]
  },
  {
   "cell_type": "code",
   "execution_count": 21,
   "id": "80a9f86a-7e67-4d3f-8f5c-db2ec5f6fd0f",
   "metadata": {},
   "outputs": [
    {
     "name": "stdout",
     "output_type": "stream",
     "text": [
      "\n",
      "Word Index= {'<OOV>': 1, 'my': 2, 'love': 3, 'dog': 4, 'i': 5, 'you': 6, 'cat': 7, 'do': 8, 'think': 9, 'is': 10, 'amazing': 11}\n",
      "\n",
      "Test Sequences= [[5, 1, 3, 2, 4], [2, 4, 1, 2, 1]]\n",
      "\n",
      "Padded Test Sequence: \n",
      "[[5 1 3 2 4 0 0 0 0 0]\n",
      " [2 4 1 2 1 0 0 0 0 0]]\n"
     ]
    }
   ],
   "source": [
    "test_data = ['i really love my dog',\n",
    "             'my dog loves my manatee']\n",
    "\n",
    "# Generate the sequences\n",
    "test_seq = tokenizer.texts_to_sequences(test_data)\n",
    "\n",
    "# Print the word index dictionary\n",
    "print(\"\\nWord Index=\", word_index)\n",
    "\n",
    "# Print the sequences with OOV\n",
    "print(\"\\nTest Sequences=\",test_seq)\n",
    "\n",
    "#Print the padded result\n",
    "padded = pad_sequences(test_seq,padding='post', truncating='post', maxlen=10)\n",
    "print(\"\\nPadded Test Sequence: \")\n",
    "print(padded)\n"
   ]
  },
  {
   "cell_type": "code",
   "execution_count": null,
   "id": "000335bc-8cbc-4ba7-9185-ca66fbbaeb39",
   "metadata": {},
   "outputs": [],
   "source": []
  },
  {
   "cell_type": "code",
   "execution_count": null,
   "id": "c41fcc1e-34e5-4fac-9a0d-2b9e9fb5ca2b",
   "metadata": {},
   "outputs": [],
   "source": []
  }
 ],
 "metadata": {
  "kernelspec": {
   "display_name": "Python 3 (ipykernel)",
   "language": "python",
   "name": "python3"
  },
  "language_info": {
   "codemirror_mode": {
    "name": "ipython",
    "version": 3
   },
   "file_extension": ".py",
   "mimetype": "text/x-python",
   "name": "python",
   "nbconvert_exporter": "python",
   "pygments_lexer": "ipython3",
   "version": "3.8.18"
  }
 },
 "nbformat": 4,
 "nbformat_minor": 5
}
